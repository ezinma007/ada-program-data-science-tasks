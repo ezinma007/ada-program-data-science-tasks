{
 "cells": [
  {
   "cell_type": "markdown",
   "id": "19a254ea",
   "metadata": {},
   "source": [
    "## Assessment,\n",
    "You are the facilitator in the ADA program for 3 tracks of your choice, here is the list of your students in those three tracks, \"['Amaka disappoint', 'Nedu japan', 'Pretty cynthia', 'Nedu japan', 'Pretty cynthia', 'Pretty cynthia']\", \"('jon doe', 'john doe', 'john doe', 'jon bellion', 'jon bellion', 'john bellcat', 'jon doe')\", \"{'ada ada', 'pyhon ezege', 'dog catcher', 'bitrus beetroot', 'doja cat', 'beja rat'}\",\n",
    "\n",
    "## Your first task\n",
    "Create a nested dictionary students with your chosen tracks, a names key is required for each track and choose any sequence above as the value for that names key. Kindly note that each sequence in your names keys should have unique values (i.e no duplicates) and must be of type list and this must be done programatically.\n",
    "\n",
    "## Your second task,\n",
    "Using your imagineative powers as a data superhero, create a scores key of type, list in each track where the first index in the names key, corresponds with the first index in the scores key.\n",
    "\n",
    "## Your third task,\n",
    "Print this desired result. The top students are: [studentName] with score of [score] for [track] track, [studentName] with score of [score] for [track] track and [studentName] with score of [score] for [track] track."
   ]
  },
  {
   "cell_type": "code",
   "execution_count": 2,
   "id": "d12009a3",
   "metadata": {},
   "outputs": [
    {
     "data": {
      "text/plain": [
       "({'Data': {}}, {'frontend': {}}, {'backend': {}})"
      ]
     },
     "execution_count": 2,
     "metadata": {},
     "output_type": "execute_result"
    }
   ],
   "source": [
    "list_1 = tuple(['Amaka disappoint', 'Nedu japan', 'Pretty cynthia', 'Nedu japan', 'Pretty cynthia', 'Pretty cynthia']) \n",
    "list_2 = tuple(('jon doe', 'john doe', 'john doe', 'jon bellion', 'jon bellion', 'john bellcat', 'jon doe'))\n",
    "list_3 = tuple({'ada ada', 'pyhon ezege', 'dog catcher', 'bitrus beetroot', 'doja cat', 'beja rat'})\n",
    "\n",
    "\n",
    "\n",
    "track_1 = 'Data'\n",
    "track_2 = 'frontend'\n",
    "track_3 = 'backend'\n",
    "\n",
    "# create dictionaries for each track\n",
    "students_d = {}\n",
    "students_d[track_1] = {}\n",
    "\n",
    "students_f = {}\n",
    "students_f[track_2] = {}\n",
    "\n",
    "students_b = {}\n",
    "students_b[track_3] = {}\n",
    "\n",
    "students_d, students_f, students_b"
   ]
  },
  {
   "cell_type": "code",
   "execution_count": 3,
   "id": "f5dead52",
   "metadata": {},
   "outputs": [
    {
     "data": {
      "text/plain": [
       "({'Data': {'names': ['Nedu japan', 'Pretty cynthia', 'Amaka disappoint']}},\n",
       " {'frontend': {'names': ['jon bellion',\n",
       "    'jon doe',\n",
       "    'john bellcat',\n",
       "    'john doe']}},\n",
       " {'backend': {'names': ['doja cat',\n",
       "    'beja rat',\n",
       "    'pyhon ezege',\n",
       "    'ada ada',\n",
       "    'bitrus beetroot',\n",
       "    'dog catcher']}})"
      ]
     },
     "execution_count": 3,
     "metadata": {},
     "output_type": "execute_result"
    }
   ],
   "source": [
    "# Create name keys in the track dictionaries, change sequence to list and remove duplicates  \n",
    "students_d[track_1]['names'] = list(set(list_1))\n",
    "students_d\n",
    "\n",
    "students_f[track_2]['names'] = list(set(list_2))\n",
    "students_f\n",
    "\n",
    "students_b[track_3]['names'] = list(set(list_3))\n",
    "students_b\n",
    "\n",
    "students_d, students_f, students_b"
   ]
  },
  {
   "cell_type": "code",
   "execution_count": 7,
   "id": "9b258151",
   "metadata": {},
   "outputs": [
    {
     "data": {
      "text/plain": [
       "({'Data': {'names': ['Nedu japan', 'Pretty cynthia', 'Amaka disappoint'],\n",
       "   'scores': [0, 0, 0]}},\n",
       " {'frontend': {'names': ['jon bellion', 'jon doe', 'john bellcat', 'john doe'],\n",
       "   'scores': [0, 0, 0, 0]}},\n",
       " {'backend': {'names': ['doja cat',\n",
       "    'beja rat',\n",
       "    'pyhon ezege',\n",
       "    'ada ada',\n",
       "    'bitrus beetroot',\n",
       "    'dog catcher'],\n",
       "   'scores': [0, 0, 0, 0, 0, 0]}})"
      ]
     },
     "execution_count": 7,
     "metadata": {},
     "output_type": "execute_result"
    }
   ],
   "source": [
    "# Add scores key to each dictionary\n",
    "students_d[track_1][\"scores\"] = [0] * len(students_d[track_1][\"names\"])\n",
    "students_d\n",
    "\n",
    "students_f[track_2][\"scores\"] = [0] * len(students_f[track_2][\"names\"])\n",
    "students_f\n",
    "\n",
    "students_b[track_3][\"scores\"] = [0] * len(students_b[track_3][\"names\"])\n",
    "students_b\n",
    "\n",
    "\n",
    "students_d, students_f, students_b"
   ]
  },
  {
   "cell_type": "code",
   "execution_count": 5,
   "id": "8bbdd183",
   "metadata": {},
   "outputs": [
    {
     "data": {
      "text/plain": [
       "{'Data': {'names': ['Nedu japan', 'Pretty cynthia', 'Amaka disappoint'],\n",
       "  'scores': [80, 90, 200]},\n",
       " 'frontend': {'names': ['jon bellion', 'jon doe', 'john bellcat', 'john doe'],\n",
       "  'scores': [70, 80, 90, 100]},\n",
       " 'backend': {'names': ['doja cat',\n",
       "   'beja rat',\n",
       "   'pyhon ezege',\n",
       "   'ada ada',\n",
       "   'bitrus beetroot',\n",
       "   'dog catcher'],\n",
       "  'scores': [60, 70, 80, 90, 100, 110]}}"
      ]
     },
     "execution_count": 5,
     "metadata": {},
     "output_type": "execute_result"
    }
   ],
   "source": [
    "# Create a nested dictionary\n",
    "students = {**students_d, **students_f, **students_b}\n",
    "\n",
    "\n"
   ]
  },
  {
   "cell_type": "code",
   "execution_count": 12,
   "id": "b15eb987",
   "metadata": {},
   "outputs": [
    {
     "data": {
      "text/plain": [
       "{'Data': {'names': ['Nedu japan', 'Pretty cynthia', 'Amaka disappoint'],\n",
       "  'scores': [80, 90, 200]},\n",
       " 'frontend': {'names': ['jon bellion', 'jon doe', 'john bellcat', 'john doe'],\n",
       "  'scores': [70, 80, 90, 100]},\n",
       " 'backend': {'names': ['doja cat',\n",
       "   'beja rat',\n",
       "   'pyhon ezege',\n",
       "   'ada ada',\n",
       "   'bitrus beetroot',\n",
       "   'dog catcher'],\n",
       "  'scores': [60, 70, 80, 90, 100, 110]}}"
      ]
     },
     "execution_count": 12,
     "metadata": {},
     "output_type": "execute_result"
    }
   ],
   "source": [
    "# Add values to scores key\n",
    "sample_scores = [[80, 90, 200], [70, 80, 90, 100], [60, 70, 80, 90, 100, 110]]\n",
    "\n",
    "students['Data'][\"scores\"] = sample_scores[0]\n",
    "students['frontend'][\"scores\"] = sample_scores[1]\n",
    "students['backend'][\"scores\"] = sample_scores[2]\n",
    "\n",
    "students\n",
    "\n",
    "\n"
   ]
  },
  {
   "cell_type": "code",
   "execution_count": 29,
   "id": "96b60acb",
   "metadata": {},
   "outputs": [
    {
     "name": "stdout",
     "output_type": "stream",
     "text": [
      "The top student is: Amaka disappoint with a score of 200 for the Data track.\n",
      "john doe with a score of 100 for the frontend track.\n",
      "dog catcher with a score of 110 for the backend track.\n"
     ]
    }
   ],
   "source": [
    "print('The top student is:',students['Data']['names'][2], 'with a score of', students['Data'][\"scores\"][2], 'for the', list(students.keys())[0], 'track.')\n",
    "print(students['frontend']['names'][3], 'with a score of', students['frontend'][\"scores\"][3], 'for the', list(students.keys())[1], 'track.')\n",
    "print(students['backend']['names'][5], 'with a score of', students['backend'][\"scores\"][5], 'for the', list(students.keys())[2], 'track.')"
   ]
  }
 ],
 "metadata": {
  "kernelspec": {
   "display_name": "Python 3 (ipykernel)",
   "language": "python",
   "name": "python3"
  },
  "language_info": {
   "codemirror_mode": {
    "name": "ipython",
    "version": 3
   },
   "file_extension": ".py",
   "mimetype": "text/x-python",
   "name": "python",
   "nbconvert_exporter": "python",
   "pygments_lexer": "ipython3",
   "version": "3.9.13"
  }
 },
 "nbformat": 4,
 "nbformat_minor": 5
}
