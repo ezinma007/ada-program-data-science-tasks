{
 "cells": [
  {
   "cell_type": "markdown",
   "id": "774e72e3",
   "metadata": {},
   "source": [
    "# TASK\n",
    "There are 5 requirements to have a romantic partner; singleness, maturity, intelligence, trust, love\n",
    "All these requirements can take any numerical value between 1 and 10 except for singleness which can only be 1\n",
    "Write a function, love that requires a user to input numerical values of singleness, maturity, intelligence, trust, love scores. Mind you that all requirements must have at least a numerical value of 1 but to be eligible for a romantic relationship, a person needs a total score of 21\n",
    "Your function outputs, “Congrats! You are closer to your desired romantic relationship” when a person has a score of at least 21\n",
    "## Requirements:\n",
    "Your code must require the user to input their scores as numbers only and return, “Kindly input a number between 1 and 10\" when a type, number is not entered by the user\n",
    "If a user inputs a number > or < 1 for singleness, your code should return, “Kindly input the number 1 here”\n",
    "Your function should contain at least one type"
   ]
  },
  {
   "cell_type": "code",
   "execution_count": null,
   "id": "4ed4763e",
   "metadata": {},
   "outputs": [],
   "source": [
    "def love():\n",
    "    while True:\n",
    "        single = int(input('Kindly input the number 1 for the singleness requirement: '))\n",
    "        if single != 1:\n",
    "            print('Kindly input the number 1 here')\n",
    "            continue\n",
    "        \n",
    "        mature = int(input('Kindly input a number between 1 and 10 for the maturity requirement: '))\n",
    "        if not (1 <= mature <= 10):\n",
    "            print('Please enter a number between 1 and 10 for the maturity requirement')\n",
    "            continue\n",
    "        \n",
    "        intelligence = int(input('Kindly input a number between 1 and 10 for the intelligence requirement: '))\n",
    "        if not (1 <= intelligence <= 10):\n",
    "            print('Please enter a number between 1 and 10 for the intelligence requirement')\n",
    "            continue\n",
    "        \n",
    "        trust = int(input('Kindly input a number between 1 and 10 for the trust requirement: ' ))\n",
    "        if not(1 <= trust <= 10):\n",
    "            print('Please enter a number between 1 and 10 for the trust requirement')\n",
    "            continue\n",
    "        \n",
    "        love = int(input('Kindly input a number between 1 and 10 for the love requirement: '))\n",
    "        if not(1 <= love <= 10):\n",
    "            print('Please enter a number between 1 and 10 for the love requirement')\n",
    "            continue\n",
    "    \n",
    "        total_score = single + mature + intelligence + trust + love\n",
    "    \n",
    "        if total_score >= 21:\n",
    "            print('Congrats! You are closer to your desired romantic relationship')\n",
    "        else:\n",
    "            print('You need to work on meeting the requirements for a successful romantic relationship')\n",
    "            \n",
    "        break\n",
    "\n",
    "love()\n"
   ]
  }
 ],
 "metadata": {
  "kernelspec": {
   "display_name": "Python 3",
   "language": "python",
   "name": "python3"
  },
  "language_info": {
   "codemirror_mode": {
    "name": "ipython",
    "version": 3
   },
   "file_extension": ".py",
   "mimetype": "text/x-python",
   "name": "python",
   "nbconvert_exporter": "python",
   "pygments_lexer": "ipython3",
   "version": "3.10.5"
  },
  "vscode": {
   "interpreter": {
    "hash": "0e4e2e92a02e1cd95fcfa8d03e32e3757e5fe2559fe6d05ae8be39560e460233"
   }
  }
 },
 "nbformat": 4,
 "nbformat_minor": 5
}
